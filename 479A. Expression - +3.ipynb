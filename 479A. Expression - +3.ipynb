{
 "cells": [
  {
   "attachments": {
    "image.png": {
     "image/png": "[encoded data removed]"
    }
   },
   "cell_type": "markdown",
   "metadata": {},
   "source": [
    "## [479A - Expression - 1000](https://codeforces.com/problemset/problem/479/A)\n",
    "![image.png](attachment:image.png)"
   ]
  },
  {
   "cell_type": "markdown",
   "metadata": {},
   "source": [
    "Petya studies in a school and he adores Maths. His class has been studying arithmetic expressions. On the last class the teacher wrote three positive integers a, b, c on the blackboard. The task was to insert signs of operations '+' and '*', and probably brackets between the numbers so that the value of the resulting expression is as large as possible. Let's consider an example: assume that the teacher wrote numbers 1, 2 and 3 on the blackboard. Here are some ways of placing signs and brackets:\n",
    "\n",
    "    1+2*3=7\n",
    "    1*(2+3)=5\n",
    "    1*2*3=6\n",
    "    (1+2)*3=9 \n",
    "\n",
    "Note that you can insert operation signs only between a and b, and between b and c, that is, you cannot swap integers. For instance, in the given sample you cannot get expression (1+3)*2.\n",
    "\n",
    "It's easy to see that the maximum value that you can obtain is 9.\n",
    "\n",
    "Your task is: given a, b and c print the maximum value that you can get.\n",
    "\n",
    "Input\n",
    "\n",
    "The input contains three integers a, b and c, each on a single line (1 ≤ a, b, c ≤ 10).\n",
    "\n",
    "Output\n",
    "\n",
    "Print the maximum value of the expression that you can obtain."
   ]
  },
  {
   "cell_type": "code",
   "execution_count": null,
   "metadata": {},
   "outputs": [],
   "source": [
    "## dummy input\n",
    "## 1\n",
    "## 2\n",
    "## 3\n",
    "## 2\n",
    "## 10\n",
    "## 3"
   ]
  },
  {
   "cell_type": "code",
   "execution_count": null,
   "metadata": {},
   "outputs": [],
   "source": [
    "a = int(input())\n",
    "b = int(input())\n",
    "c = int(input())\n",
    "\n",
    "lijst = [a+b+c, a*b*c, a+b*c, a*b+c, (a+b)*c, a*(b+c)]  \n",
    "print(max(lijst))"
   ]
  }
 ],
 "metadata": {
  "kernelspec": {
   "display_name": "Python 3",
   "language": "python",
   "name": "python3"
  },
  "language_info": {
   "codemirror_mode": {
    "name": "ipython",
    "version": 3
   },
   "file_extension": ".py",
   "mimetype": "text/x-python",
   "name": "python",
   "nbconvert_exporter": "python",
   "pygments_lexer": "ipython3",
   "version": "3.13.1"
  }
 },
 "nbformat": 4,
 "nbformat_minor": 2
}
