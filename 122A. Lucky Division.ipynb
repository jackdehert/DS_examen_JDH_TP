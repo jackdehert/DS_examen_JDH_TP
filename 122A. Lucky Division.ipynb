{
 "cells": [
  {
   "attachments": {
    "image.png": {
     "image/png": "[encoded data removed]"
    }
   },
   "cell_type": "markdown",
   "metadata": {},
   "source": [
    "### [122A - Lucky Division - 1000](https://codeforces.com/problemset/problem/122/A)\n",
    "![image.png](attachment:image.png)"
   ]
  },
  {
   "cell_type": "markdown",
   "metadata": {},
   "source": [
    "Petya loves lucky numbers. Everybody knows that lucky numbers are positive integers whose decimal representation contains only the lucky digits 4 and 7. For example, numbers 47, 744, 4 are lucky and 5, 17, 467 are not.\n",
    "\n",
    "Petya calls a number almost lucky if it could be evenly divided by some lucky number. Help him find out if the given number n is almost lucky.\n",
    "\n",
    "Input\n",
    "\n",
    "The single line contains an integer n (1 ≤ n ≤ 1000) — the number that needs to be checked.\n",
    "\n",
    "Output\n",
    "\n",
    "In the only line print \"YES\" (without the quotes), if number n is almost lucky. Otherwise, print \"NO\" (without the quotes)"
   ]
  },
  {
   "cell_type": "code",
   "execution_count": null,
   "metadata": {},
   "outputs": [],
   "source": [
    "## dummy input\n",
    "## 47\n",
    "## 16\n",
    "## 78\n",
    "## 100"
   ]
  },
  {
   "cell_type": "code",
   "execution_count": 106,
   "metadata": {},
   "outputs": [
    {
     "name": "stdout",
     "output_type": "stream",
     "text": [
      "YES\n"
     ]
    }
   ],
   "source": [
    "getal = int(input())\n",
    "\n",
    "lijst_lucky_numbers = []\n",
    "\n",
    "for n in range(getal+1):\n",
    "    if set(str(n)) == {\"4\"}:\n",
    "        lijst_lucky_numbers += [n]\n",
    "    elif set(str(n)) == {\"7\"}:\n",
    "        lijst_lucky_numbers += [n]\n",
    "    elif set(str(n)) == {\"4\",\"7\"}:\n",
    "        lijst_lucky_numbers += [n]       \n",
    "\n",
    "count = 0\n",
    "for i in lijst_lucky_numbers:\n",
    "        if getal % i == 0:\n",
    "             print(\"YES\")\n",
    "             break\n",
    "        elif i == getal:\n",
    "             print(\"YES\")\n",
    "             break\n",
    "        else:\n",
    "             count += 1\n",
    "if count == len(lijst_lucky_numbers):\n",
    "     print(\"NO\")\n",
    "        \n",
    "            \n",
    "        \n",
    "\n"
   ]
  }
 ],
 "metadata": {
  "kernelspec": {
   "display_name": "base",
   "language": "python",
   "name": "python3"
  },
  "language_info": {
   "codemirror_mode": {
    "name": "ipython",
    "version": 3
   },
   "file_extension": ".py",
   "mimetype": "text/x-python",
   "name": "python",
   "nbconvert_exporter": "python",
   "pygments_lexer": "ipython3",
   "version": "3.12.4"
  }
 },
 "nbformat": 4,
 "nbformat_minor": 2
}
