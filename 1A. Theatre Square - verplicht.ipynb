{
 "cells": [
  {
   "attachments": {
    "image.png": {
     "image/png": "[encoded data removed]"
    }
   },
   "cell_type": "markdown",
   "metadata": {},
   "source": [
    "## [1A - Theatre Square - 1000](https://codeforces.com/problemset/problem/1/A)\n",
    "![image.png](attachment:image.png)"
   ]
  },
  {
   "cell_type": "markdown",
   "metadata": {},
   "source": [
    "Theatre Square in the capital city of Berland has a rectangular shape with the size n × m meters. On the occasion of the city's anniversary, a decision was taken to pave the Square with square granite flagstones. Each flagstone is of the size a × a.\n",
    "\n",
    "What is the least number of flagstones needed to pave the Square? It's allowed to cover the surface larger than the Theatre Square, but the Square has to be covered. It's not allowed to break the flagstones. The sides of flagstones should be parallel to the sides of the Square.\n",
    "\n",
    "Input\n",
    "\n",
    "The input contains three positive integer numbers in the first line: n,  m and a (1 ≤  n, m, a ≤ 109).\n",
    "\n",
    "Output\n",
    "\n",
    "Write the needed number of flagstones."
   ]
  },
  {
   "cell_type": "code",
   "execution_count": null,
   "metadata": {},
   "outputs": [],
   "source": [
    "## dummy output\n",
    "## 6 6 4\n"
   ]
  },
  {
   "cell_type": "code",
   "execution_count": null,
   "metadata": {},
   "outputs": [
    {
     "data": {
      "text/plain": [
       "1"
      ]
     },
     "execution_count": 1,
     "metadata": {},
     "output_type": "execute_result"
    }
   ],
   "source": [
    "## trage manier\n",
    "n,m,a = input().split()\n",
    "n = int(n)\n",
    "m = int(m)\n",
    "a = int(a)\n",
    "\n",
    "tegels = min( i for i in range(10**9) if i*a >= m ) * min( x for x in range(10**9) if x*a >= n)\n",
    "tegels\n"
   ]
  },
  {
   "cell_type": "code",
   "execution_count": 43,
   "metadata": {},
   "outputs": [
    {
     "name": "stdout",
     "output_type": "stream",
     "text": [
      "1000000\n"
     ]
    }
   ],
   "source": [
    "n,m,a = input().split()\n",
    "n = int(n)\n",
    "m = int(m)\n",
    "a = int(a)\n",
    "\n",
    "\n",
    "import math\n",
    "\n",
    "tegels = math.ceil(m/a)* math.ceil(n/a)\n",
    "print(tegels)\n"
   ]
  }
 ],
 "metadata": {
  "kernelspec": {
   "display_name": "base",
   "language": "python",
   "name": "python3"
  },
  "language_info": {
   "codemirror_mode": {
    "name": "ipython",
    "version": 3
   },
   "file_extension": ".py",
   "mimetype": "text/x-python",
   "name": "python",
   "nbconvert_exporter": "python",
   "pygments_lexer": "ipython3",
   "version": "3.12.4"
  }
 },
 "nbformat": 4,
 "nbformat_minor": 2
}
