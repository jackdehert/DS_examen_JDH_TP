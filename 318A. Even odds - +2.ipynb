{
 "cells": [
  {
   "attachments": {
    "image.png": {
     "image/png": "[encoded data removed]"
    }
   },
   "cell_type": "markdown",
   "metadata": {},
   "source": [
    "## [318A - Even odds - 900](https://codeforces.com/problemset/problem/318/A)\n",
    "![image.png](attachment:image.png)"
   ]
  },
  {
   "cell_type": "markdown",
   "metadata": {},
   "source": [
    "Being a nonconformist, Volodya is displeased with the current state of things, particularly with the order of natural numbers (natural number is positive integer number). He is determined to rearrange them. But there are too many natural numbers, so Volodya decided to start with the first n. He writes down the following sequence of numbers: firstly all odd integers from 1 to n (in ascending order), then all even integers from 1 to n (also in ascending order). Help our hero to find out which number will stand at the position number k.\n",
    "\n",
    "Input\n",
    "\n",
    "The only line of input contains integers n and k (1 ≤ k ≤ n ≤ 1012).\n",
    "\n",
    "Please, do not use the %lld specifier to read or write 64-bit integers in C++. It is preferred to use the cin, cout streams or the %I64d specifier.\n",
    "\n",
    "Output\n",
    "\n",
    "Print the number that will stand at the position number k after Volodya's manipulations."
   ]
  },
  {
   "cell_type": "code",
   "execution_count": null,
   "metadata": {},
   "outputs": [],
   "source": [
    "## 10 3\n",
    "## 1000000000000 500000000001\n"
   ]
  },
  {
   "cell_type": "code",
   "execution_count": 27,
   "metadata": {},
   "outputs": [
    {
     "name": "stdout",
     "output_type": "stream",
     "text": [
      "[1, 3, 5, 7, 9, 2, 4, 6, 8, 10]\n",
      "5\n"
     ]
    }
   ],
   "source": [
    "lengte, plaats = map(int, input().split())\n",
    "\n",
    "lengte_lijst = list(range(lengte + 1)[1::2]) + list(range(lengte + 1)[2::2])\n",
    "print(lengte_lijst)\n",
    "print(lengte_lijst[plaats-1])"
   ]
  },
  {
   "cell_type": "code",
   "execution_count": null,
   "metadata": {},
   "outputs": [
    {
     "name": "stdout",
     "output_type": "stream",
     "text": [
      "2\n"
     ]
    }
   ],
   "source": [
    "#memory efficienter\n",
    "lengte, plaats = map(int, input().split())\n",
    "\n",
    "\n",
    "aantal_oneven = (lengte+1) // 2 # wanneer lijst oneven is, is er steeds 1 meer oneven getal dan even, wanneer de lijst even is zijn ze gelijk\n",
    "\n",
    "if plaats <= aantal_oneven:\n",
    "    resultaat = 2 * plaats - 1 #doe maal 2 omdat we in altijd een getal overslagen (enkel de oneven)\n",
    "else:\n",
    "    plaats -= aantal_oneven  # Aanpassen voor de even getallen (omdat we de index zoeken in 1,2,3,4,5,...)\n",
    "    resultaat = 2 * plaats #idem als hierboven\n",
    "\n",
    "print(resultaat)\n"
   ]
  }
 ],
 "metadata": {
  "kernelspec": {
   "display_name": "base",
   "language": "python",
   "name": "python3"
  },
  "language_info": {
   "codemirror_mode": {
    "name": "ipython",
    "version": 3
   },
   "file_extension": ".py",
   "mimetype": "text/x-python",
   "name": "python",
   "nbconvert_exporter": "python",
   "pygments_lexer": "ipython3",
   "version": "3.12.4"
  }
 },
 "nbformat": 4,
 "nbformat_minor": 2
}
