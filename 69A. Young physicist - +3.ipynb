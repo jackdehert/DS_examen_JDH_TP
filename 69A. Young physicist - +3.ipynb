{
 "cells": [
  {
   "attachments": {
    "image.png": {
     "image/png": "[encoded data removed]"
    }
   },
   "cell_type": "markdown",
   "metadata": {},
   "source": [
    "## [69A - Young physicist - 1000](https://codeforces.com/problemset/problem/69/A)\n",
    "![image.png](attachment:image.png)"
   ]
  },
  {
   "cell_type": "markdown",
   "metadata": {},
   "source": [
    "A guy named Vasya attends the final grade of a high school. One day Vasya decided to watch a match of his favorite hockey team. And, as the boy loves hockey very much, even more than physics, he forgot to do the homework. Specifically, he forgot to complete his physics tasks. Next day the teacher got very angry at Vasya and decided to teach him a lesson. He gave the lazy student a seemingly easy task: You are given an idle body in space and the forces that affect it. The body can be considered as a material point with coordinates (0; 0; 0). Vasya had only to answer whether it is in equilibrium. \"Piece of cake\" — thought Vasya, we need only to check if the sum of all vectors is equal to 0. So, Vasya began to solve the problem. But later it turned out that there can be lots and lots of these forces, and Vasya can not cope without your help. Help him. Write a program that determines whether a body is idle or is moving by the given vectors of forces.\n",
    "\n",
    "Input\n",
    "\n",
    "The first line contains a positive integer n (1 ≤ n ≤ 100), then follow n lines containing three integers each: the xi coordinate, the yi coordinate and the zi coordinate of the force vector, applied to the body ( - 100 ≤ xi, yi, zi ≤ 100).\n",
    "\n",
    "Output\n",
    "\n",
    "Print the word \"YES\" if the body is in equilibrium, or the word \"NO\" if it is not"
   ]
  },
  {
   "cell_type": "code",
   "execution_count": null,
   "metadata": {},
   "outputs": [],
   "source": [
    "## dummy input\n",
    "## 3\n",
    "## 4 1 7\n",
    "## -2 4 -1\n",
    "## 1 -5 -3\n",
    "## 3\n",
    "## 3 -1 7\n",
    "## -5 2 -4\n",
    "## 2 -1 -3\n",
    "## 3\n",
    "\n",
    "## 0 2 -2\n",
    "\n",
    "## 1 -1 3\n",
    "\n",
    "## -3 0 0\n",
    " \n"
   ]
  },
  {
   "cell_type": "code",
   "execution_count": null,
   "metadata": {},
   "outputs": [
    {
     "name": "stdout",
     "output_type": "stream",
     "text": [
      "-2 1 1\n",
      "NO\n"
     ]
    }
   ],
   "source": [
    "num_vectors = int(input())\n",
    "count = 0\n",
    "count_x = 0\n",
    "count_y = 0\n",
    "count_z = 0\n",
    "\n",
    "for n in range(num_vectors):\n",
    "    vector_n = list(map(int, input().split()))\n",
    "    count += sum(vector_n)\n",
    "    count_x += vector_n[0]\n",
    "    count_y += vector_n[1]\n",
    "    count_z += vector_n[2]\n",
    "\n",
    "lijst_som_xyz = [count_x, count_y, count_z]\n",
    "\n",
    "if count == 0 and 0 in lijst_som_xyz:\n",
    "    print(\"YES\")\n",
    "else:\n",
    "    print(\"NO\")\n"
   ]
  }
 ],
 "metadata": {
  "kernelspec": {
   "display_name": "base",
   "language": "python",
   "name": "python3"
  },
  "language_info": {
   "codemirror_mode": {
    "name": "ipython",
    "version": 3
   },
   "file_extension": ".py",
   "mimetype": "text/x-python",
   "name": "python",
   "nbconvert_exporter": "python",
   "pygments_lexer": "ipython3",
   "version": "3.12.4"
  }
 },
 "nbformat": 4,
 "nbformat_minor": 2
}
