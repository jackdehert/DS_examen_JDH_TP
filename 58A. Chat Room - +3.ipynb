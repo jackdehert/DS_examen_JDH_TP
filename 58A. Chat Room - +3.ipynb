{
 "cells": [
  {
   "attachments": {
    "image.png": {
     "image/png": "[encoded data removed]"
    }
   },
   "cell_type": "markdown",
   "metadata": {},
   "source": [
    "## [58A - Chat room - 1000](https://codeforces.com/problemset/problem/58/A)\n",
    "![image.png](attachment:image.png)"
   ]
  },
  {
   "cell_type": "markdown",
   "metadata": {},
   "source": [
    "Vasya has recently learned to type and log on to the Internet. He immediately entered a chat room and decided to say hello to everybody. Vasya typed the word s. It is considered that Vasya managed to say hello if several letters can be deleted from the typed word so that it resulted in the word \"hello\". For example, if Vasya types the word \"ahhellllloou\", it will be considered that he said hello, and if he types \"hlelo\", it will be considered that Vasya got misunderstood and he didn't manage to say hello. Determine whether Vasya managed to say hello by the given word s.\n",
    "\n",
    "Input\n",
    "\n",
    "The first and only line contains the word s, which Vasya typed. This word consisits of small Latin letters, its length is no less that 1 and no more than 100 letters.\n",
    "\n",
    "Output\n",
    "\n",
    "If Vasya managed to say hello, print \"YES\", otherwise print \"NO\"."
   ]
  },
  {
   "cell_type": "code",
   "execution_count": null,
   "metadata": {},
   "outputs": [],
   "source": [
    "## dummy input\n",
    "## ahhellllloou\n",
    "## hlelo\n",
    "## helhcludoo\n",
    "## pnnepelqomhhheollvlo\n",
    "\n",
    "\n"
   ]
  },
  {
   "cell_type": "code",
   "execution_count": 45,
   "metadata": {},
   "outputs": [
    {
     "data": {
      "text/plain": [
       "1"
      ]
     },
     "execution_count": 45,
     "metadata": {},
     "output_type": "execute_result"
    }
   ],
   "source": [
    "s = dict(enumerate(\"hlelo\"))\n",
    "\n",
    "\n",
    "h = (list(s.keys())[list(s.values()).index(\"h\")])\n",
    "l = (list(s.keys())[list(s.values()).index(\"l\")])\n",
    "l"
   ]
  },
  {
   "cell_type": "code",
   "execution_count": 1,
   "metadata": {},
   "outputs": [
    {
     "name": "stdout",
     "output_type": "stream",
     "text": [
      "NO\n"
     ]
    }
   ],
   "source": [
    "s = dict(enumerate(str(input())))\n",
    "hello = []\n",
    "h = [ k for k,v in s.items() if v == \"h\"]\n",
    "e = [ k for k,v in s.items() if v == \"e\"]\n",
    "l = [ k for k,v in s.items() if v == \"l\"]\n",
    "o = [ k for k,v in s.items() if v == \"o\"]\n",
    "\n",
    "\n"
   ]
  },
  {
   "cell_type": "code",
   "execution_count": 7,
   "metadata": {},
   "outputs": [
    {
     "name": "stdout",
     "output_type": "stream",
     "text": [
      "YES\n"
     ]
    }
   ],
   "source": [
    "# oplossing\n",
    "s = str(input())\n",
    "\n",
    "count = 0\n",
    "doel = \"hello\"\n",
    "\n",
    "for n in range(len(s)): \n",
    "    if s[n] == doel[count]: # iterate over het woord s en vergelijk met de letters van hello\n",
    "        count += 1\n",
    "    if count == 5:\n",
    "        break\n",
    "if count == 5:\n",
    "    print(\"YES\")\n",
    "else:\n",
    "    print(\"NO\")"
   ]
  }
 ],
 "metadata": {
  "kernelspec": {
   "display_name": "base",
   "language": "python",
   "name": "python3"
  },
  "language_info": {
   "codemirror_mode": {
    "name": "ipython",
    "version": 3
   },
   "file_extension": ".py",
   "mimetype": "text/x-python",
   "name": "python",
   "nbconvert_exporter": "python",
   "pygments_lexer": "ipython3",
   "version": "3.12.4"
  }
 },
 "nbformat": 4,
 "nbformat_minor": 2
}
