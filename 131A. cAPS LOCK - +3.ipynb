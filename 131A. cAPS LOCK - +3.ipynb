{
 "cells": [
  {
   "attachments": {
    "image.png": {
     "image/png": "[encoded data removed]"
    }
   },
   "cell_type": "markdown",
   "metadata": {},
   "source": [
    "## [131A - cAPS LOCK - 1000](https://codeforces.com/problemset/problem/131/A)\n",
    "![image.png](attachment:image.png)"
   ]
  },
  {
   "cell_type": "markdown",
   "metadata": {},
   "source": [
    "wHAT DO WE NEED cAPS LOCK FOR?\n",
    "\n",
    "Caps lock is a computer keyboard key. Pressing it sets an input mode in which typed letters are capital by default. If it is pressed by accident, it leads to accidents like the one we had in the first passage.\n",
    "\n",
    "Let's consider that a word has been typed with the Caps lock key accidentally switched on, if:\n",
    "\n",
    "    either it only contains uppercase letters;\n",
    "    or all letters except for the first one are uppercase. \n",
    "\n",
    "In this case we should automatically change the case of all letters. For example, the case of the letters that form words \"hELLO\", \"HTTP\", \"z\" should be changed.\n",
    "\n",
    "Write a program that applies the rule mentioned above. If the rule cannot be applied, the program should leave the word unchanged.\n",
    "\n",
    "Input\n",
    "\n",
    "The first line of the input data contains a word consisting of uppercase and lowercase Latin letters. The word's length is from 1 to 100 characters, inclusive.\n",
    "\n",
    "Output\n",
    "\n",
    "Print the result of the given word's processing."
   ]
  },
  {
   "cell_type": "code",
   "execution_count": null,
   "metadata": {},
   "outputs": [],
   "source": [
    "## dummy input\n",
    "## cAPS\n",
    "## Lock"
   ]
  },
  {
   "cell_type": "code",
   "execution_count": 8,
   "metadata": {},
   "outputs": [
    {
     "name": "stdout",
     "output_type": "stream",
     "text": [
      "Z\n"
     ]
    }
   ],
   "source": [
    "woord = str(input())\n",
    "\n",
    "\n",
    "if woord == woord.upper(): # nakijken of alles uppercase is\n",
    "    woord = woord.lower()\n",
    "    print(woord)\n",
    "elif woord == woord.lower()[0] + woord.upper()[1:]: #nakijken of enkel eerste letter lowercase is\n",
    "     woord = woord.upper()[0] + woord.lower()[1:]\n",
    "     print(woord)\n",
    "elif len(woord) == 1: # specifieke situatie waar woord len = 1 heeft en lowercase is\n",
    "     print(woord.upper())\n",
    "else:\n",
    "     print(woord)\n",
    "     \n"
   ]
  }
 ],
 "metadata": {
  "kernelspec": {
   "display_name": "Python 3",
   "language": "python",
   "name": "python3"
  },
  "language_info": {
   "codemirror_mode": {
    "name": "ipython",
    "version": 3
   },
   "file_extension": ".py",
   "mimetype": "text/x-python",
   "name": "python",
   "nbconvert_exporter": "python",
   "pygments_lexer": "ipython3",
   "version": "3.13.1"
  }
 },
 "nbformat": 4,
 "nbformat_minor": 2
}
