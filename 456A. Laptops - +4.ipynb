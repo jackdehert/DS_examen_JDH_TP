{
 "cells": [
  {
   "attachments": {
    "image.png": {
     "image/png": "[encoded data removed]"
    }
   },
   "cell_type": "markdown",
   "metadata": {},
   "source": [
    "## [456A - Laptops - 1100](https://codeforces.com/contest/456/problem/A)\n",
    "![image.png](attachment:image.png)"
   ]
  },
  {
   "cell_type": "markdown",
   "metadata": {},
   "source": [
    "One day Dima and Alex had an argument about the price and quality of laptops. Dima thinks that the more expensive a laptop is, the better it is. Alex disagrees. Alex thinks that there are two laptops, such that the price of the first laptop is less (strictly smaller) than the price of the second laptop but the quality of the first laptop is higher (strictly greater) than the quality of the second laptop.\n",
    "\n",
    "Please, check the guess of Alex. You are given descriptions of n laptops. Determine whether two described above laptops exist.\n",
    "\n",
    "Input\n",
    "\n",
    "The first line contains an integer n (1 ≤ n ≤ 105) — the number of laptops.\n",
    "\n",
    "Next n lines contain two integers each, ai and bi (1 ≤ ai, bi ≤ n), where ai is the price of the i-th laptop, and bi is the number that represents the quality of the i-th laptop (the larger the number is, the higher is the quality).\n",
    "\n",
    "All ai are distinct. All bi are distinct.\n",
    "\n",
    "Output\n",
    "\n",
    "If Alex is correct, print \"Happy Alex\", otherwise print \"Poor Alex\" (without the quotes)."
   ]
  },
  {
   "cell_type": "code",
   "execution_count": null,
   "metadata": {},
   "outputs": [],
   "source": [
    "## dummy input\n",
    "2\n",
    "1 2\n",
    "2 1\n",
    "\n",
    "2\n",
    "2 2\n",
    "3 1"
   ]
  },
  {
   "cell_type": "code",
   "execution_count": null,
   "metadata": {},
   "outputs": [
    {
     "name": "stdout",
     "output_type": "stream",
     "text": [
      "Happy Alex\n"
     ]
    }
   ],
   "source": [
    "## nested loops duren te lang, werkt niet voor grote n\n",
    "n = int(input())\n",
    "lijst = []\n",
    "for i in range(n):\n",
    "    x , y = map(int, input().split())\n",
    "    lijst.append((x,y))\n",
    "\n",
    "\n",
    "if all(x == y for x,y in lijst):\n",
    "    print(\"Poor Alex\")\n",
    "\n",
    "else:   \n",
    "    lijst_value = [tup for tup in lijst if tup[0] <= tup[1]]\n",
    "    lijst_exp = [tup for tup in lijst if tup[0] >= tup[1]]\n",
    "\n",
    "    lijst_value.sort(key = lambda tup: (tup[0], -tup[1]))\n",
    "    lijst_exp.sort(key = lambda tup: (-tup[0], tup[1]))\n",
    "\n",
    "    for a in range(len(lijst_value)):\n",
    "        for b in range(len(lijst_exp)):\n",
    "            x1, y1 = lijst_value[a]\n",
    "            x2, y2 = lijst_exp[b]\n",
    "            if x1 < x2 and y1 > y2:\n",
    "                print(\"Happy Alex\")\n",
    "                break\n",
    "        else:\n",
    "            continue\n",
    "        break\n",
    "    else:\n",
    "        print(\"Poor Alex\")"
   ]
  },
  {
   "cell_type": "code",
   "execution_count": null,
   "metadata": {},
   "outputs": [],
   "source": [
    "n = int(input())  \n",
    "lijst = []\n",
    "\n",
    "\n",
    "for i in range(n):\n",
    "    x, y = map(int, input().split())\n",
    "    lijst.append((x, y))\n",
    "\n",
    "\n",
    "if all(x == y for x, y in lijst):\n",
    "    print(\"Poor Alex\")\n",
    "else:\n",
    "    \n",
    "    lijst.sort(key=lambda tup: (tup[0], -tup[1]))\n",
    "\n",
    "  \n",
    "    for i in range(1, n):\n",
    "        x1, y1 = lijst[i-1]\n",
    "        x2, y2 = lijst[i]\n",
    "        \n",
    "        \n",
    "        if x1 < x2 and y1 > y2:\n",
    "            print(\"Happy Alex\")\n",
    "            break\n",
    "    else:\n",
    "        print(\"Poor Alex\")\n"
   ]
  }
 ],
 "metadata": {
  "kernelspec": {
   "display_name": "base",
   "language": "python",
   "name": "python3"
  },
  "language_info": {
   "codemirror_mode": {
    "name": "ipython",
    "version": 3
   },
   "file_extension": ".py",
   "mimetype": "text/x-python",
   "name": "python",
   "nbconvert_exporter": "python",
   "pygments_lexer": "ipython3",
   "version": "3.12.4"
  }
 },
 "nbformat": 4,
 "nbformat_minor": 2
}
