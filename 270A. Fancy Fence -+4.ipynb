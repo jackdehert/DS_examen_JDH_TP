{
 "cells": [
  {
   "attachments": {
    "image.png": {
     "image/png": "[encoded data removed]"
    }
   },
   "cell_type": "markdown",
   "metadata": {},
   "source": [
    "## [270A - Fancy Fence - 1100](https://codeforces.com/problemset/problem/270/A)\n",
    "![image.png](attachment:image.png)"
   ]
  },
  {
   "cell_type": "markdown",
   "metadata": {},
   "source": [
    "Emuskald needs a fence around his farm, but he is too lazy to build it himself. So he purchased a fence-building robot.\n",
    "\n",
    "He wants the fence to be a regular polygon. The robot builds the fence along a single path, but it can only make fence corners at a single angle a.\n",
    "\n",
    "Will the robot be able to build the fence Emuskald wants? In other words, is there a regular polygon which angles are equal to a?\n",
    "\n",
    "Input\n",
    "\n",
    "The first line of input contains an integer t (0 < t < 180) — the number of tests. Each of the following t lines contains a single integer a (0 < a < 180) — the angle the robot can make corners at measured in degrees.\n",
    "\n",
    "Output\n",
    "\n",
    "For each test, output on a single line \"YES\" (without quotes), if the robot can build a fence Emuskald wants, and \"NO\" (without quotes), if it is impossible."
   ]
  },
  {
   "cell_type": "code",
   "execution_count": 1,
   "metadata": {},
   "outputs": [
    {
     "data": {
      "text/plain": [
       "90"
      ]
     },
     "execution_count": 1,
     "metadata": {},
     "output_type": "execute_result"
    }
   ],
   "source": [
    "## dummy input\n",
    "3\n",
    "30\n",
    "60\n",
    "90\n",
    "\n",
    "6\n",
    "\n",
    "1\n",
    "\n",
    "2\n",
    "\n",
    "3\n",
    "\n",
    "170\n",
    "\n",
    "179\n",
    "\n",
    "25\n",
    "\n"
   ]
  },
  {
   "cell_type": "code",
   "execution_count": 3,
   "metadata": {},
   "outputs": [
    {
     "name": "stdout",
     "output_type": "stream",
     "text": [
      "NO\n",
      "NO\n",
      "NO\n",
      "YES\n",
      "YES\n",
      "NO\n"
     ]
    }
   ],
   "source": [
    "t = int(input())\n",
    "lijst = []\n",
    "for repeat in range(t):\n",
    "    angle = int(input())\n",
    "    for n in range(1,10000): #moet in pricipe maar 360 zijn omdat de input steeds een int is.\n",
    "        if angle == (180*(n-2))/n:\n",
    "            lijst.append(angle)\n",
    "    if angle in lijst:\n",
    "        print(\"YES\")\n",
    "    else:\n",
    "        print(\"NO\")"
   ]
  }
 ],
 "metadata": {
  "kernelspec": {
   "display_name": "Python 3",
   "language": "python",
   "name": "python3"
  },
  "language_info": {
   "codemirror_mode": {
    "name": "ipython",
    "version": 3
   },
   "file_extension": ".py",
   "mimetype": "text/x-python",
   "name": "python",
   "nbconvert_exporter": "python",
   "pygments_lexer": "ipython3",
   "version": "3.13.1"
  }
 },
 "nbformat": 4,
 "nbformat_minor": 2
}
