{
 "cells": [
  {
   "attachments": {
    "image.png": {
     "image/png": "[encoded data removed]"
    }
   },
   "cell_type": "markdown",
   "metadata": {},
   "source": [
    "## [1999B - Card Game- Difficulty 1000 +3 ](https://codeforces.com/problemset/problem/1999/B)\n",
    "![image.png](attachment:image.png)"
   ]
  },
  {
   "cell_type": "markdown",
   "metadata": {},
   "source": [
    "Suneet and Slavic play a card game. The rules of the game are as follows:\n",
    "\n",
    "    Each card has an integer value between 1\n",
    "\n",
    "and 10\n",
    ".\n",
    "Each player receives 2\n",
    "\n",
    "    cards which are face-down (so a player doesn't know their cards).\n",
    "    The game is turn-based and consists exactly of two turns. In a round, both players pick a random unflipped card and flip it. The player who flipped a card with a strictly greater number wins the round. In case of equality, no one wins the round.\n",
    "    A player wins a game if he wins the most number of rounds (i.e. strictly greater than the other player). In case of equality, no one wins the game. \n",
    "\n",
    "Since Suneet and Slavic aren't best friends, you need to calculate the number of ways the game could happen that Suneet would end up as the winner.\n",
    "\n",
    "For a better understanding, please check the notes section.\n",
    "\n",
    "Input\n",
    "\n",
    "The first line contains an integer t\n",
    "(1≤t≤104\n",
    "\n",
    ") — the number of test cases.\n",
    "\n",
    "The first and only line of each test case contains 4\n",
    "integers a1, a2, b1, b2 (1≤a1,a2,b1,b2≤10) where a1 and a2 represent the cards Suneet has, and b1 and b2\n",
    "\n",
    "represent the cards Slavic has, respectively.\n",
    "\n",
    "Output\n",
    "\n",
    "For each test case, output a single integer — the number of games Suneet would win considering all possible games."
   ]
  },
  {
   "cell_type": "markdown",
   "metadata": {},
   "source": [
    "#### Put in dummy input"
   ]
  },
  {
   "cell_type": "code",
   "execution_count": null,
   "metadata": {},
   "outputs": [],
   "source": [
    "# 5\n",
    "# 3 8 2 6\n",
    "# 1 1 1 1\n",
    "# 10 10 2 2\n",
    "# 1 1 10 10\n",
    "# 3 8 7 2"
   ]
  },
  {
   "cell_type": "code",
   "execution_count": null,
   "metadata": {},
   "outputs": [],
   "source": [
    "tests = int(input())\n",
    "\n",
    "results = []\n",
    "\n",
    "for test in range(tests):\n",
    "    a1, a2, b1, b2 = map(int,input().split())\n",
    "    suneet_wins = 0\n",
    "# De 2 mogelijke handen van de spelers\n",
    "    suneet_hands = [(a1,a2), (a2, a1)]\n",
    "    slavic_hands = [(b1,b2), (b2,b1)]\n",
    "\n",
    "    for suneet_hand in suneet_hands: # vergelijkt elke hand van suneet met elke hand van slavic\n",
    "        for slavic_hand in slavic_hands:\n",
    "            suneet_rounds = 0\n",
    "            slavic_rounds = 0\n",
    "\n",
    "            for suneet_card, slavic_card in zip(suneet_hand, slavic_hand): # iterate over de kaarten die ze in de hand hebben\n",
    "                if suneet_card > slavic_card:\n",
    "                    suneet_rounds += 1\n",
    "                elif suneet_card < slavic_card: # bij gelijkspel geen winnaar, dus kan geen else gebruiken\n",
    "                    slavic_rounds += 1\n",
    "            if suneet_rounds > slavic_rounds:\n",
    "                suneet_wins += 1\n",
    "    results.append(suneet_wins)\n",
    "for result in results: #print het resultaat voor elk spel\n",
    "    print(result)"
   ]
  }
 ],
 "metadata": {
  "kernelspec": {
   "display_name": "Python 3",
   "language": "python",
   "name": "python3"
  },
  "language_info": {
   "name": "python",
   "version": "3.12.6"
  }
 },
 "nbformat": 4,
 "nbformat_minor": 2
}
