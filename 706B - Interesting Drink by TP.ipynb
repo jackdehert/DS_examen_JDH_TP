{
 "cells": [
  {
   "attachments": {
    "image.png": {
     "image/png": "[encoded data removed]"
    }
   },
   "cell_type": "markdown",
   "metadata": {},
   "source": [
    "## [706B - Interesting Drink - Difficulty 1100 ](https://codeforces.com/problemset/problem/706/B)\n",
    "![image.png](attachment:image.png)"
   ]
  },
  {
   "cell_type": "markdown",
   "metadata": {},
   "source": [
    "Vasiliy likes to rest after a hard work, so you may often meet him in some bar nearby. As all programmers do, he loves the famous drink \"Beecola\", which can be bought in n different shops in the city. It's known that the price of one bottle in the shop i is equal to xi coins.\n",
    "\n",
    "Vasiliy plans to buy his favorite drink for q consecutive days. He knows, that on the i-th day he will be able to spent mi coins. Now, for each of the days he want to know in how many different shops he can buy a bottle of \"Beecola\".\n",
    "\n",
    "Input\n",
    "\n",
    "The first line of the input contains a single integer n (1 ≤ n ≤ 100 000) — the number of shops in the city that sell Vasiliy's favourite drink.\n",
    "\n",
    "The second line contains n integers xi (1 ≤ xi ≤ 100 000) — prices of the bottles of the drink in the i-th shop.\n",
    "\n",
    "The third line contains a single integer q (1 ≤ q ≤ 100 000) — the number of days Vasiliy plans to buy the drink.\n",
    "\n",
    "Then follow q lines each containing one integer mi (1 ≤ mi ≤ 109) — the number of coins Vasiliy can spent on the i-th day.\n",
    "\n",
    "Output\n",
    "\n",
    "Print q integers. The i-th of them should be equal to the number of shops where Vasiliy will be able to buy a bottle of the drink on the i-th day."
   ]
  },
  {
   "cell_type": "markdown",
   "metadata": {},
   "source": [
    "#### Put in dummy input"
   ]
  },
  {
   "cell_type": "code",
   "execution_count": null,
   "metadata": {},
   "outputs": [],
   "source": [
    "# 5\n",
    "# 3 10 8 6 11\n",
    "# 4\n",
    "# 1\n",
    "# 10\n",
    "# 3\n",
    "# 11\n",
    "\n",
    "# 5\n",
    "# 868 987 714 168 123\n",
    "# 10\n",
    "# 424\n",
    "# 192\n",
    "# 795\n",
    "# 873\n",
    "# 117\n",
    "# 914\n",
    "# 735\n",
    "# 158\n",
    "# 631\n",
    "# 471"
   ]
  },
  {
   "cell_type": "code",
   "execution_count": null,
   "metadata": {},
   "outputs": [],
   "source": [
    "from bisect import bisect_right\n",
    "shops = int(input())\n",
    "prices = list(map(int,input().split()))\n",
    "prices.sort()\n",
    "days = int(input())\n",
    "\n",
    "for day in range(days):\n",
    "    coins = int(input())\n",
    "    count = bisect_right(prices, coins) # bisect_right geeft de index van coins in een gesorteerde prices lijst, wanneer de waarde van coins al in prices zou zijn dan plaatst hij de waarde van coins er achter\n",
    "    print(count) #komt overeen met in hoeveel winkels hij zijn drankje kan kopen"
   ]
  },
  {
   "cell_type": "code",
   "execution_count": 2,
   "metadata": {},
   "outputs": [
    {
     "name": "stdout",
     "output_type": "stream",
     "text": [
      "\u001b[1;31mSignature:\u001b[0m \u001b[0mbisect_right\u001b[0m\u001b[1;33m(\u001b[0m\u001b[0ma\u001b[0m\u001b[1;33m,\u001b[0m \u001b[0mx\u001b[0m\u001b[1;33m,\u001b[0m \u001b[0mlo\u001b[0m\u001b[1;33m=\u001b[0m\u001b[1;36m0\u001b[0m\u001b[1;33m,\u001b[0m \u001b[0mhi\u001b[0m\u001b[1;33m=\u001b[0m\u001b[1;32mNone\u001b[0m\u001b[1;33m,\u001b[0m \u001b[1;33m*\u001b[0m\u001b[1;33m,\u001b[0m \u001b[0mkey\u001b[0m\u001b[1;33m=\u001b[0m\u001b[1;32mNone\u001b[0m\u001b[1;33m)\u001b[0m\u001b[1;33m\u001b[0m\u001b[1;33m\u001b[0m\u001b[0m\n",
      "\u001b[1;31mDocstring:\u001b[0m\n",
      "Return the index where to insert item x in list a, assuming a is sorted.\n",
      "\n",
      "The return value i is such that all e in a[:i] have e <= x, and all e in\n",
      "a[i:] have e > x.  So if x already appears in the list, a.insert(i, x) will\n",
      "insert just after the rightmost x already there.\n",
      "\n",
      "Optional args lo (default 0) and hi (default len(a)) bound the\n",
      "slice of a to be searched.\n",
      "\n",
      "A custom key function can be supplied to customize the sort order.\n",
      "\u001b[1;31mType:\u001b[0m      builtin_function_or_method"
     ]
    }
   ],
   "source": [
    "from bisect import bisect_right\n",
    "\n",
    "?bisect_right"
   ]
  }
 ],
 "metadata": {
  "kernelspec": {
   "display_name": "Python 3",
   "language": "python",
   "name": "python3"
  },
  "language_info": {
   "codemirror_mode": {
    "name": "ipython",
    "version": 3
   },
   "file_extension": ".py",
   "mimetype": "text/x-python",
   "name": "python",
   "nbconvert_exporter": "python",
   "pygments_lexer": "ipython3",
   "version": "3.13.1"
  }
 },
 "nbformat": 4,
 "nbformat_minor": 2
}
