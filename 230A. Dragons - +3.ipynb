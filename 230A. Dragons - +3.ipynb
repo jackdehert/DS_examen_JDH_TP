{
 "cells": [
  {
   "attachments": {
    "image.png": {
     "image/png": "[encoded data removed]"
    }
   },
   "cell_type": "markdown",
   "metadata": {},
   "source": [
    "## [230A - Dragons - 1000](https://codeforces.com/problemset/problem/230/A)\n",
    "![image.png](attachment:image.png)"
   ]
  },
  {
   "cell_type": "markdown",
   "metadata": {},
   "source": [
    "Kirito is stuck on a level of the MMORPG he is playing now. To move on in the game, he's got to defeat all n dragons that live on this level. Kirito and the dragons have strength, which is represented by an integer. In the duel between two opponents the duel's outcome is determined by their strength. Initially, Kirito's strength equals s.\n",
    "\n",
    "If Kirito starts duelling with the i-th (1 ≤ i ≤ n) dragon and Kirito's strength is not greater than the dragon's strength xi, then Kirito loses the duel and dies. But if Kirito's strength is greater than the dragon's strength, then he defeats the dragon and gets a bonus strength increase by yi.\n",
    "\n",
    "Kirito can fight the dragons in any order. Determine whether he can move on to the next level of the game, that is, defeat all dragons without a single loss.\n",
    "\n",
    "Input\n",
    "\n",
    "The first line contains two space-separated integers s and n (1 ≤ s ≤ 104, 1 ≤ n ≤ 103). Then n lines follow: the i-th line contains space-separated integers xi and yi (1 ≤ xi ≤ 104, 0 ≤ yi ≤ 104) — the i-th dragon's strength and the bonus for defeating it.\n",
    "\n",
    "Output\n",
    "\n",
    "On a single line print \"YES\" (without the quotes), if Kirito can move on to the next level and print \"NO\" (without the quotes), if he can't."
   ]
  },
  {
   "cell_type": "code",
   "execution_count": null,
   "metadata": {},
   "outputs": [],
   "source": [
    "## dummy input\n",
    "2 2\n",
    "1 99\n",
    "100 0\n",
    "\n",
    "10 1\n",
    "100 100\n",
    "\n",
    "999 2\n",
    "\n",
    "1010 10\n",
    "\n",
    "67 89\n"
   ]
  },
  {
   "cell_type": "code",
   "execution_count": null,
   "metadata": {},
   "outputs": [
    {
     "name": "stdout",
     "output_type": "stream",
     "text": [
      "YES\n"
     ]
    }
   ],
   "source": [
    "## wrong for some reason\n",
    "s , n = map(int, input().split())\n",
    "count = 0\n",
    "lijst_x = []\n",
    "lijst_y = []\n",
    "for i in range(n):\n",
    "    x , y = map(int,input().split())\n",
    "    lijst_x.append(x)\n",
    "    lijst_y.append(y) \n",
    "\n",
    "for i in range(n):\n",
    "    if s > min(lijst_x):\n",
    "        s += lijst_y[lijst_x.index(min(lijst_x))]\n",
    "        lijst_y.remove(lijst_y[lijst_x.index(min(lijst_x))])\n",
    "        lijst_x.remove(min(lijst_x))\n",
    "        count += 1\n",
    "    else:\n",
    "        print(\"NO\")\n",
    "        break\n",
    "if count == n:\n",
    "    print(\"YES\")\n"
   ]
  },
  {
   "cell_type": "code",
   "execution_count": 3,
   "metadata": {},
   "outputs": [
    {
     "data": {
      "text/plain": [
       "0"
      ]
     },
     "execution_count": 3,
     "metadata": {},
     "output_type": "execute_result"
    }
   ],
   "source": [
    "\n",
    "s, n = map(int, input().split())\n",
    "\n",
    "\n",
    "dragons = []\n",
    "\n",
    "for i in range(n):\n",
    "    x, y = map(int, input().split())\n",
    "    dragons.append((x, y))\n",
    "\n",
    "\n",
    "dragons.sort()\n",
    "\n",
    "\n",
    "for x, y in dragons:\n",
    "    if s > x:\n",
    "        s += y \n",
    "    else:\n",
    "        print(\"NO\")\n",
    "        break\n",
    "else:\n",
    "    print(\"YES\")\n"
   ]
  }
 ],
 "metadata": {
  "kernelspec": {
   "display_name": "Python 3",
   "language": "python",
   "name": "python3"
  },
  "language_info": {
   "codemirror_mode": {
    "name": "ipython",
    "version": 3
   },
   "file_extension": ".py",
   "mimetype": "text/x-python",
   "name": "python",
   "nbconvert_exporter": "python",
   "pygments_lexer": "ipython3",
   "version": "3.13.1"
  }
 },
 "nbformat": 4,
 "nbformat_minor": 2
}
