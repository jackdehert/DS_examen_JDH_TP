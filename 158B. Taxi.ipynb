{
 "cells": [
  {
   "attachments": {
    "image.png": {
     "image/png": "[encoded data removed]"
    }
   },
   "cell_type": "markdown",
   "metadata": {},
   "source": [
    "## [158B - Taxi - 1100](![image.png](attachment:image.png))\n",
    "![image.png](attachment:image.png)"
   ]
  },
  {
   "cell_type": "markdown",
   "metadata": {},
   "source": [
    "After the lessons n groups of schoolchildren went outside and decided to visit Polycarpus to celebrate his birthday. We know that the i-th group consists of si friends (1 ≤ si ≤ 4), and they want to go to Polycarpus together. They decided to get there by taxi. Each car can carry at most four passengers. What minimum number of cars will the children need if all members of each group should ride in the same taxi (but one taxi can take more than one group)?\n",
    "\n",
    "Input\n",
    "\n",
    "The first line contains integer n (1 ≤ n ≤ 105) — the number of groups of schoolchildren. The second line contains a sequence of integers s1, s2, ..., sn (1 ≤ si ≤ 4). The integers are separated by a space, si is the number of children in the i-th group.\n",
    "\n",
    "Output\n",
    "\n",
    "Print the single number — the minimum number of taxis necessary to drive all children to Polycarpus."
   ]
  },
  {
   "cell_type": "code",
   "execution_count": 1,
   "metadata": {},
   "outputs": [],
   "source": [
    "## dummy input\n",
    "## 5\n",
    "## 1 2 4 3 3\n",
    "## 8\n",
    "## 2 3 4 4 2 1 3 1\n",
    "## 12\n",
    "## 1 1 1 1 1 1 1 1 1 1 1 1\n",
    "## 2\n",
    "## 2 1\n",
    "## 8\n",
    "## 1 1 2 1 1 1 3 2\n",
    "\n",
    "\n"
   ]
  },
  {
   "cell_type": "code",
   "execution_count": 68,
   "metadata": {},
   "outputs": [
    {
     "name": "stdout",
     "output_type": "stream",
     "text": [
      "3\n"
     ]
    }
   ],
   "source": [
    "\n",
    "groups = input()\n",
    "members = list(input().split())\n",
    "\n",
    "cnt1, cnt2, cnt3, cnt4 = 0, 0, 0, 0\n",
    "taxi = 0\n",
    "for x in members:\n",
    "    if x == \"1\": cnt1  += 1\n",
    "    elif x == \"2\": cnt2  += 1\n",
    "    elif x == \"3\": cnt3  += 1\n",
    "    else: cnt4  += 1\n",
    "taxi = cnt4\n",
    "\n",
    "taxi += cnt2// 2\n",
    "cnt2 %= 2\n",
    "\n",
    "if cnt1 <= cnt3:\n",
    "    taxi += cnt1\n",
    "    taxi += cnt2\n",
    "    taxi += cnt3 - cnt1\n",
    "else:\n",
    "    taxi += cnt3\n",
    "    cnt1 -= cnt3\n",
    "    taxi += cnt1 //4\n",
    "    cnt1 %= 4\n",
    "    rest = cnt1 + cnt2*2\n",
    "    if rest > 0:\n",
    "        if rest <= 4:\n",
    "            taxi += 1\n",
    "        else:\n",
    "            taxi += 2\n",
    "\n",
    "print(taxi) \n",
    "\n",
    "\n"
   ]
  }
 ],
 "metadata": {
  "kernelspec": {
   "display_name": "base",
   "language": "python",
   "name": "python3"
  },
  "language_info": {
   "codemirror_mode": {
    "name": "ipython",
    "version": 3
   },
   "file_extension": ".py",
   "mimetype": "text/x-python",
   "name": "python",
   "nbconvert_exporter": "python",
   "pygments_lexer": "ipython3",
   "version": "3.12.4"
  }
 },
 "nbformat": 4,
 "nbformat_minor": 2
}
