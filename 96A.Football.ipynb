{
 "cells": [
  {
   "attachments": {
    "image.png": {
     "image/png": "[encoded data removed]"
    }
   },
   "cell_type": "markdown",
   "metadata": {},
   "source": [
    "## [96A - Football - 900](https://codeforces.com/problemset/problem/96/A)\n",
    "![image.png](attachment:image.png)"
   ]
  },
  {
   "cell_type": "markdown",
   "metadata": {},
   "source": [
    "Petya loves football very much. One day, as he was watching a football match, he was writing the players' current positions on a piece of paper. To simplify the situation he depicted it as a string consisting of zeroes and ones. A zero corresponds to players of one team; a one corresponds to players of another team. If there are at least 7 players of some team standing one after another, then the situation is considered dangerous. For example, the situation 00100110111111101 is dangerous and 11110111011101 is not. You are given the current situation. Determine whether it is dangerous or not.\n",
    "\n",
    "Input\n",
    "\n",
    "The first input line contains a non-empty string consisting of characters \"0\" and \"1\", which represents players. The length of the string does not exceed 100 characters. There's at least one player from each team present on the field.\n",
    "\n",
    "Output\n",
    "\n",
    "Print \"YES\" if the situation is dangerous. Otherwise, print \"NO\"."
   ]
  },
  {
   "cell_type": "code",
   "execution_count": null,
   "metadata": {},
   "outputs": [],
   "source": [
    "## dummy input\n",
    "## 001001\n",
    "## 1000000001\n",
    "## 10100101\n",
    "## 10000000\n",
    "\n"
   ]
  },
  {
   "cell_type": "code",
   "execution_count": null,
   "metadata": {},
   "outputs": [
    {
     "name": "stdout",
     "output_type": "stream",
     "text": [
      "NO\n"
     ]
    }
   ],
   "source": [
    "position = str(input())\n",
    "counter_1 = 0\n",
    "counter_0 = 0\n",
    "\n",
    "for n in position:\n",
    "    if counter_1 > 6:\n",
    "        break\n",
    "    \n",
    "    elif counter_0 > 6:\n",
    "        break\n",
    "\n",
    "    elif n == \"1\":\n",
    "        counter_1 += 1\n",
    "        counter_0 = 0\n",
    "    elif n == \"0\":\n",
    "        counter_1 = 0\n",
    "        counter_0 += 1\n",
    "\n",
    "if counter_0 > 6 or counter_1 > 6:\n",
    "    print(\"YES\")\n",
    "else:\n",
    "    print(\"NO\")\n"
   ]
  }
 ],
 "metadata": {
  "kernelspec": {
   "display_name": "base",
   "language": "python",
   "name": "python3"
  },
  "language_info": {
   "codemirror_mode": {
    "name": "ipython",
    "version": 3
   },
   "file_extension": ".py",
   "mimetype": "text/x-python",
   "name": "python",
   "nbconvert_exporter": "python",
   "pygments_lexer": "ipython3",
   "version": "3.12.4"
  }
 },
 "nbformat": 4,
 "nbformat_minor": 2
}
