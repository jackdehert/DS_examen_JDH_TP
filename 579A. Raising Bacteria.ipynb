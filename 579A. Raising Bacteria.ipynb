{
 "cells": [
  {
   "attachments": {
    "image.png": {
     "image/png": "[encoded data removed]"
    }
   },
   "cell_type": "markdown",
   "metadata": {},
   "source": [
    "## [579A - Raising Bacteria - 1000](https://codeforces.com/problemset/problem/579/A)\n",
    "![image.png](attachment:image.png)"
   ]
  },
  {
   "cell_type": "markdown",
   "metadata": {},
   "source": [
    "You are a lover of bacteria. You want to raise some bacteria in a box.\n",
    "\n",
    "Initially, the box is empty. Each morning, you can put any number of bacteria into the box. And each night, every bacterium in the box will split into two bacteria. You hope to see exactly x bacteria in the box at some moment.\n",
    "\n",
    "What is the minimum number of bacteria you need to put into the box across those days?\n",
    "\n",
    "Input\n",
    "\n",
    "The only line containing one integer x (1 ≤ x ≤ 109).\n",
    "\n",
    "Output\n",
    "\n",
    "The only line containing one integer: the answer"
   ]
  },
  {
   "cell_type": "code",
   "execution_count": null,
   "metadata": {},
   "outputs": [],
   "source": [
    "## dummy input\n",
    "## 5\n",
    "## 8\n",
    "## 536870911\n"
   ]
  },
  {
   "cell_type": "code",
   "execution_count": null,
   "metadata": {},
   "outputs": [
    {
     "name": "stdout",
     "output_type": "stream",
     "text": [
      "1\n"
     ]
    }
   ],
   "source": [
    "## Oude oplossing, werkt voor kleine hoeveelheden maar duurt te lang voor grote\n",
    "##    fin_hvl_bact = int(input())\n",
    "\n",
    "\n",
    "##    n = [n for n in range(fin_hvl_bact) if fin_hvl_bact == 2**(n-1) + fin_hvl_bact%2**(n-1)]\n",
    "\n",
    "\n",
    "##    min_bact = 1 + fin_hvl_bact % (2**(n[0]-1))\n",
    "##    print(min_bact)\n",
    "\n",
    "\n"
   ]
  },
  {
   "cell_type": "code",
   "execution_count": 91,
   "metadata": {},
   "outputs": [
    {
     "name": "stdout",
     "output_type": "stream",
     "text": [
      "2\n"
     ]
    }
   ],
   "source": [
    "x = int ( input ( ) )\n",
    "\n",
    "import math\n",
    "\n",
    "aantal_bact = 0\n",
    "while x > 0: #De bacteriën verdubbelen elke dag, dus /2 om terug te werken\n",
    "    if x % 2 == 1: #Wanneer het oneven is, is er een bacterie toegevoegd\n",
    "        aantal_bact += 1 \n",
    "    x = math.floor(x/2) #rond af naar beneden omdat rest reeds is toegevoegd\n",
    "print(aantal_bact)"
   ]
  }
 ],
 "metadata": {
  "kernelspec": {
   "display_name": "base",
   "language": "python",
   "name": "python3"
  },
  "language_info": {
   "codemirror_mode": {
    "name": "ipython",
    "version": 3
   },
   "file_extension": ".py",
   "mimetype": "text/x-python",
   "name": "python",
   "nbconvert_exporter": "python",
   "pygments_lexer": "ipython3",
   "version": "3.12.4"
  }
 },
 "nbformat": 4,
 "nbformat_minor": 2
}
